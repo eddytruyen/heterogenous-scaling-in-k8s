{
 "cells": [
  {
   "cell_type": "code",
   "execution_count": null,
   "metadata": {},
   "outputs": [],
   "source": [
    "import pandas as pd\n",
    "from datetime import datetime\n",
    "\n",
    "from sklearn.ensemble import RandomForestRegressor\n",
    "from sklearn.linear_model import Ridge, Lasso, ElasticNet, PoissonRegressor,BayesianRidge, ARDRegression\n",
    "from sklearn.multioutput import MultiOutputRegressor\n",
    "from sklearn.neighbors import KNeighborsRegressor\n",
    "from sklearn.svm import SVR\n",
    "from sklearn.tree import DecisionTreeRegressor\n",
    "from xgboost import XGBRegressor\n",
    "from sklearn.model_selection import train_test_split, GridSearchCV"
   ]
  },
  {
   "cell_type": "code",
   "execution_count": null,
   "metadata": {
    "pycharm": {
     "name": "#%%\n"
    }
   },
   "outputs": [],
   "source": [
    "df = pd.read_csv(f\"../data/new/dataset2022_08_03-05_35_12_PM.csv\")"
   ]
  },
  {
   "cell_type": "code",
   "execution_count": null,
   "metadata": {
    "pycharm": {
     "name": "#%%\n"
    }
   },
   "outputs": [],
   "source": [
    "df[\"tot_cpu\"] = df.w1_num * df.w1_cpu + df.w2_num * df.w2_cpu + df.w3_num * df.w3_cpu + df.w4_num * df.w4_cpu\n",
    "df[\"tot_mem\"] = df.w1_num * df.w1_mem + df.w2_num * df.w2_mem + df.w3_num * df.w3_mem + df.w4_num * df.w4_mem"
   ]
  },
  {
   "cell_type": "code",
   "execution_count": null,
   "metadata": {
    "pycharm": {
     "name": "#%%\n"
    }
   },
   "outputs": [],
   "source": [
    "all_cols = [\"time\", \"nr_query_cols\", \"nr_query_conds\", \"nr_data_rows\", \"nr_data_cols\", \"nr_users\",  \"tot_cpu\", \"tot_mem\"]"
   ]
  },
  {
   "cell_type": "code",
   "execution_count": null,
   "metadata": {
    "pycharm": {
     "name": "#%%\n"
    }
   },
   "outputs": [],
   "source": [
    "df = df[all_cols]"
   ]
  },
  {
   "cell_type": "code",
   "execution_count": null,
   "metadata": {
    "pycharm": {
     "name": "#%%\n"
    }
   },
   "outputs": [],
   "source": [
    "X_cols = ['time', 'nr_query_cols', 'nr_query_conds', 'nr_data_rows', 'nr_data_cols', 'nr_users']\n",
    "y_cols = ['tot_cpu', 'tot_mem']"
   ]
  },
  {
   "cell_type": "code",
   "execution_count": null,
   "metadata": {
    "pycharm": {
     "name": "#%%\n"
    }
   },
   "outputs": [],
   "source": [
    "X = df[X_cols]"
   ]
  },
  {
   "cell_type": "code",
   "execution_count": null,
   "metadata": {
    "pycharm": {
     "name": "#%%\n"
    }
   },
   "outputs": [],
   "source": [
    "y = df[y_cols]"
   ]
  },
  {
   "cell_type": "code",
   "execution_count": null,
   "metadata": {
    "pycharm": {
     "name": "#%%\n"
    }
   },
   "outputs": [],
   "source": [
    "X_train, X_test, y_train, y_test = train_test_split(X, y, test_size=0.3, random_state=0)"
   ]
  },
  {
   "cell_type": "code",
   "execution_count": null,
   "metadata": {
    "pycharm": {
     "name": "#%%\n"
    }
   },
   "outputs": [],
   "source": [
    "def __perform_grid_search(model, hyperparams):\n",
    "    grid = GridSearchCV(model, hyperparams, cv=5, scoring=\"neg_root_mean_squared_error\", n_jobs=-1, refit=True)\n",
    "    grid.fit(X_train, y_train)\n",
    "    score = grid.score(X_test, y_test)\n",
    "    return grid, score"
   ]
  },
  {
   "cell_type": "code",
   "execution_count": null,
   "metadata": {
    "pycharm": {
     "name": "#%%\n"
    }
   },
   "outputs": [],
   "source": [
    "print(datetime.now().strftime(\"%H:%M:%S\"))\n",
    "ard = MultiOutputRegressor(ARDRegression())\n",
    "ard_hyperparams = {\"estimator__n_iter\": [50, 100, 200, 300, 400, 500], \"estimator__fit_intercept\": [True, False],\n",
    "                     \"estimator__alpha_1\": [1e-6, 1e-4, 1e-2, 1e-8, 1e-10, 1e-12],\n",
    "                     \"estimator__alpha_2\": [1e-6, 1e-4, 1e-2, 1e-8, 1e-10, 1e-12],\n",
    "                     \"estimator__lambda_1\": [1e-6, 1e-4, 1e-2, 1e-8, 1e-10, 1e-12],\n",
    "                     \"estimator__lambda_2\": [1e-6, 1e-4, 1e-2, 1e-8, 1e-10, 1e-12],}\n",
    "ard_grid, ard_score = __perform_grid_search(ard, ard_hyperparams)\n",
    "print(\"ARD: \", ard_score)\n",
    "print(datetime.now().strftime(\"%H:%M:%S\"))\n",
    "print(ard_grid.best_params_)"
   ]
  },
  {
   "cell_type": "code",
   "execution_count": null,
   "metadata": {
    "pycharm": {
     "name": "#%%\n"
    }
   },
   "outputs": [],
   "source": [
    "print(datetime.now().strftime(\"%H:%M:%S\"))\n",
    "bayes = MultiOutputRegressor(BayesianRidge())\n",
    "bayes_hyperparams = {\"estimator__n_iter\": [50, 100, 200, 300, 400, 500], \"estimator__fit_intercept\": [True, False],\n",
    "                     \"estimator__alpha_1\": [1e-6, 1e-4, 1e-2, 1e-8, 1e-10, 1e-12],\n",
    "                     \"estimator__alpha_2\": [1e-6, 1e-4, 1e-2, 1e-8, 1e-10, 1e-12],\n",
    "                     \"estimator__lambda_1\": [1e-6, 1e-4, 1e-2, 1e-8, 1e-10, 1e-12],\n",
    "                     \"estimator__lambda_2\": [1e-6, 1e-4, 1e-2, 1e-8, 1e-10, 1e-12],}\n",
    "bayes_grid, bayes_score = __perform_grid_search(bayes, bayes_hyperparams)\n",
    "print(\"Bayes: \", bayes_score)\n",
    "print(datetime.now().strftime(\"%H:%M:%S\"))\n",
    "print(bayes_grid.best_params_)"
   ]
  },
  {
   "cell_type": "code",
   "execution_count": null,
   "metadata": {
    "pycharm": {
     "name": "#%%\n"
    }
   },
   "outputs": [],
   "source": [
    "print(datetime.now().strftime(\"%H:%M:%S\"))\n",
    "poisson = MultiOutputRegressor(PoissonRegressor())\n",
    "poisson_hyperparams = {\"estimator__alpha\": [1, 0.1, 0.01, 0.001, 0.0001, 0],\n",
    "                       \"estimator__fit_intercept\": [True, False],\n",
    "                       \"estimator__max_iter\": [100, 200, 300, 400, 500, 1000, 2000]}\n",
    "poisson_grid, poisson_score = __perform_grid_search(poisson, poisson_hyperparams)\n",
    "print(\"Poisson: \", poisson_score)\n",
    "print(datetime.now().strftime(\"%H:%M:%S\"))\n",
    "print(poisson_grid.best_params_)"
   ]
  },
  {
   "cell_type": "code",
   "execution_count": null,
   "metadata": {
    "pycharm": {
     "name": "#%%\n"
    }
   },
   "outputs": [],
   "source": [
    "print(datetime.now().strftime(\"%H:%M:%S\"))\n",
    "ridge = Ridge()\n",
    "ridge_hyperparams = {\"alpha\": [1, 0.1, 0.01, 0.001, 0.0001, 0], \"fit_intercept\": [True, False],\n",
    "                     \"solver\": [\"svd\", \"cholesky\", \"lsqr\", \"sparse_cg\", \"sag\", \"saga\"]}\n",
    "ridge_grid, ridge_score = __perform_grid_search(ridge, ridge_hyperparams)\n",
    "print(\"Ridge: \", ridge_score)\n",
    "print(datetime.now().strftime(\"%H:%M:%S\"))\n",
    "print(ridge_grid.best_params_)"
   ]
  },
  {
   "cell_type": "code",
   "execution_count": null,
   "metadata": {
    "pycharm": {
     "name": "#%%\n"
    }
   },
   "outputs": [],
   "source": [
    "print(datetime.now().strftime(\"%H:%M:%S\"))\n",
    "lasso = Lasso()\n",
    "lasso_hyperparams = {\"alpha\": [1, 0.1, 0.01, 0.001, 0.0001, 0], \"fit_intercept\": [True, False],\n",
    "                       \"max_iter\": [100, 200, 300, 400, 500, 1000, 2000]}\n",
    "lasso_grid, lasso_score = __perform_grid_search(lasso, lasso_hyperparams)\n",
    "print(\"Lasso: \", lasso_score)\n",
    "print(datetime.now().strftime(\"%H:%M:%S\"))\n",
    "print(lasso_grid.best_params_)"
   ]
  },
  {
   "cell_type": "code",
   "execution_count": null,
   "metadata": {
    "pycharm": {
     "name": "#%%\n"
    }
   },
   "outputs": [],
   "source": [
    "print(datetime.now().strftime(\"%H:%M:%S\"))\n",
    "elastic_net = ElasticNet()\n",
    "elastic_net_hyperparams = {\"alpha\": [1, 0.1, 0.01, 0.001, 0.0001, 0], \"fit_intercept\": [True, False],\n",
    "                           \"l1_ratio\": [1, 0.1, 0.01, 0.001, 0.0001, 0], \"max_iter\": [100, 200, 300, 400, 500, 1000, 2000]}\n",
    "elastic_net_grid, elastic_net_score = __perform_grid_search(elastic_net, elastic_net_hyperparams)\n",
    "print(\"Elastic Net: \", elastic_net_score)\n",
    "print(datetime.now().strftime(\"%H:%M:%S\"))\n",
    "print(elastic_net_grid.best_params_)"
   ]
  },
  {
   "cell_type": "code",
   "execution_count": null,
   "metadata": {
    "pycharm": {
     "is_executing": true,
     "name": "#%%\n"
    }
   },
   "outputs": [],
   "source": [
    "print(datetime.now().strftime(\"%H:%M:%S\"))\n",
    "neigh = KNeighborsRegressor()\n",
    "neigh_hyperparams = {\"n_neighbors\": range(1, 200), \"algorithm\": [\"auto\", \"brute\"],\n",
    "                     \"leaf_size\": [1, 5, 10, 15, 30, 50, 100], \"weights\": [\"uniform\", \"distance\"],\n",
    "                     \"metric\": [\"euclidean\", \"minkowski\"]}\n",
    "neigh_grid, neigh_score = __perform_grid_search(neigh, neigh_hyperparams)\n",
    "print(\"KNN: \", neigh_score)\n",
    "print(datetime.now().strftime(\"%H:%M:%S\"))\n",
    "print(neigh_grid.best_params_)"
   ]
  },
  {
   "cell_type": "code",
   "execution_count": null,
   "metadata": {
    "pycharm": {
     "name": "#%%\n"
    }
   },
   "outputs": [],
   "source": [
    "print(datetime.now().strftime(\"%H:%M:%S\"))\n",
    "tree = DecisionTreeRegressor()\n",
    "tree_hyperparams = {\"criterion\": [\"squared_error\", \"friedman_mse\", \"poisson\"],\n",
    "                    \"max_depth\": [3, 4, 5, 6, 7, 8, 9, 10, 11, 12, 15, 20, 50, 100, None],\n",
    "                    \"min_samples_split\": [2, 5, 10],\n",
    "                    \"max_features\": [\"auto\", \"sqrt\", \"log2\"]}\n",
    "tree_grid, tree_score = __perform_grid_search(tree, tree_hyperparams)\n",
    "print(\"Decision Tree: \", tree_score)\n",
    "print(datetime.now().strftime(\"%H:%M:%S\"))\n",
    "print(tree_grid.best_params_)"
   ]
  },
  {
   "cell_type": "code",
   "execution_count": null,
   "metadata": {
    "pycharm": {
     "name": "#%%\n"
    }
   },
   "outputs": [],
   "source": [
    "print(datetime.now().strftime(\"%H:%M:%S\"))\n",
    "forest = RandomForestRegressor()\n",
    "forest_hyperparams = {\"criterion\": [\"squared_error\", \"absolute_error\"],\n",
    "                      \"max_depth\": [3, 4, 5, 6, 7, 8, 9, 10, 11, 12, 15, 20, 50, 100, None],\n",
    "                      \"min_samples_split\": [2, 5, 10],\n",
    "                      \"n_estimators\": [50, 100, 200, 250, 300, 350, 400, 500, 1000],\n",
    "                      \"max_features\": [\"auto\", \"sqrt\", \"log2\"]\n",
    "                      }\n",
    "forest_grid, forest_score = __perform_grid_search(forest, forest_hyperparams)\n",
    "print(\"Random Forest: \", forest_score)\n",
    "print(datetime.now().strftime(\"%H:%M:%S\"))\n",
    "print(forest_grid.best_params_)"
   ]
  },
  {
   "cell_type": "code",
   "execution_count": null,
   "metadata": {
    "pycharm": {
     "name": "#%%\n"
    }
   },
   "outputs": [],
   "source": [
    "print(datetime.now().strftime(\"%H:%M:%S\"))\n",
    "svr = MultiOutputRegressor(SVR())\n",
    "svr_hyperparams = {\"estimator__C\": [1, 2, 3, 4, 5], \"estimator__kernel\": [\"rbf\"],\n",
    "                       \"estimator__degree\": [1, 2, 3, 4, 5],\n",
    "                       \"estimator__gamma\": [0.1, 0.2, 0.3, 0.4, 0.5, 0.6, 0.7, 0.8, 0.9],\n",
    "                   \"estimator__cache_size\": [100, 200, 500, 1000]}\n",
    "svr_grid, svr_score = __perform_grid_search(svr, svr_hyperparams)\n",
    "print(\"SVR: \", svr_score)\n",
    "print(datetime.now().strftime(\"%H:%M:%S\"))\n",
    "print(svr_grid.best_params_)"
   ]
  },
  {
   "cell_type": "code",
   "execution_count": null,
   "metadata": {
    "pycharm": {
     "name": "#%%\n"
    }
   },
   "outputs": [],
   "source": [
    "print(datetime.now().strftime(\"%H:%M:%S\"))\n",
    "xgb = XGBRegressor()\n",
    "xgb_hyperparams = {\"n_estimators\": [50, 100, 200, 250, 300, 350, 400, 500, 1000],\n",
    "                   \"max_depth\": [3, 4, 5, 6, 7, 8, 9, 10, 11, 12, 15, 20, 50, 100, None],\n",
    "                   \"colsample_bytree\": [0.1, 0.3, 0.5, 0.7, 0.9],\n",
    "                   \"min_child_weight\": [1, 3, 5, 7, 9, 11, 25, 50],\n",
    "                   \"eta\": [0.1, 0.3, 0.5, 0.7, 0.9]\n",
    "                   }\n",
    "xgb_grid, xgb_score = __perform_grid_search(xgb, xgb_hyperparams)\n",
    "print(\"XGBoost: \", xgb_score)\n",
    "print(datetime.now().strftime(\"%H:%M:%S\"))\n",
    "print(xgb_grid.best_params_)"
   ]
  },
  {
   "cell_type": "code",
   "execution_count": null,
   "metadata": {
    "pycharm": {
     "name": "#%%\n"
    }
   },
   "outputs": [],
   "source": [
    "from sklearn.metrics import mean_squared_error, mean_absolute_error, r2_score\n",
    "\n",
    "def get_metrics(actual, model, data):\n",
    "    predicted = model.predict(data)\n",
    "    actual_cpu = actual.iloc[:, 0]\n",
    "    actual_mem = actual.iloc[:, 1]\n",
    "    predicted_cpu = predicted[:, 0]\n",
    "    predicted_mem = predicted[:, 1]\n",
    "\n",
    "    print(model.estimator)\n",
    "    cri = mean_squared_error\n",
    "    print(cri(actual_cpu, predicted_cpu), cri(actual_mem, predicted_mem))\n",
    "    cri = mean_absolute_error\n",
    "    print(cri(actual_cpu, predicted_cpu), cri(actual_mem, predicted_mem))\n",
    "    cri = r2_score\n",
    "    print(cri(actual_cpu, predicted_cpu), cri(actual_mem, predicted_mem))\n",
    "    print((1 - ((1 - cri(actual_cpu, predicted_cpu)) * ((data.shape[0] - 1)/(data.shape[0] - 1 - data.shape[1])))),\n",
    "          (1 - ((1 - cri(actual_mem, predicted_mem)) * ((data.shape[0] - 1)/(data.shape[0] - 1 - data.shape[1])))))\n",
    "    print()"
   ]
  },
  {
   "cell_type": "code",
   "execution_count": null,
   "metadata": {
    "pycharm": {
     "name": "#%%\n"
    }
   },
   "outputs": [],
   "source": [
    "grids = ard_grid, bayes_grid, poisson_grid, ridge_grid, lasso_grid, elastic_net_grid, \\\n",
    "           neigh_grid, tree_grid, \\\n",
    "           forest_grid, svr_grid, xgb_grid"
   ]
  },
  {
   "cell_type": "code",
   "execution_count": null,
   "metadata": {
    "pycharm": {
     "name": "#%%\n"
    }
   },
   "outputs": [],
   "source": [
    "for i in grids:\n",
    "    get_metrics(y_test, i, X_test)"
   ]
  },
  {
   "cell_type": "code",
   "execution_count": null,
   "metadata": {
    "pycharm": {
     "name": "#%%\n"
    }
   },
   "outputs": [],
   "source": []
  }
 ],
 "metadata": {
  "kernelspec": {
   "display_name": "Python 3 (ipykernel)",
   "language": "python",
   "name": "python3"
  },
  "language_info": {
   "codemirror_mode": {
    "name": "ipython",
    "version": 3
   },
   "file_extension": ".py",
   "mimetype": "text/x-python",
   "name": "python",
   "nbconvert_exporter": "python",
   "pygments_lexer": "ipython3",
   "version": "3.9.7"
  }
 },
 "nbformat": 4,
 "nbformat_minor": 1
}